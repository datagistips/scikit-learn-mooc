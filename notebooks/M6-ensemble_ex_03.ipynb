{
 "cells": [
  {
   "cell_type": "markdown",
   "id": "7c79aa26",
   "metadata": {},
   "source": [
    "# 📝 Exercise M6.03\n",
    "\n",
    "This exercise aims at verifying if AdaBoost can over-fit.\n",
    "We will make a grid-search and check the scores by varying the\n",
    "number of estimators.\n",
    "\n",
    "We will first load the California housing dataset and split it into a\n",
    "training and a testing set."
   ]
  },
  {
   "cell_type": "code",
   "execution_count": 2,
   "id": "38c01154",
   "metadata": {},
   "outputs": [],
   "source": [
    "from sklearn.datasets import fetch_california_housing\n",
    "from sklearn.model_selection import train_test_split\n",
    "\n",
    "data, target = fetch_california_housing(return_X_y=True, as_frame=True)\n",
    "target *= 100  # rescale the target in k$\n",
    "data_train, data_test, target_train, target_test = train_test_split(\n",
    "    data, target, random_state=0, test_size=0.5)"
   ]
  },
  {
   "cell_type": "markdown",
   "id": "7af350b4",
   "metadata": {},
   "source": [
    "<div class=\"admonition note alert alert-info\">\n",
    "<p class=\"first admonition-title\" style=\"font-weight: bold;\">Note</p>\n",
    "<p class=\"last\">If you want a deeper overview regarding this dataset, you can refer to the\n",
    "Appendix - Datasets description section at the end of this MOOC.</p>\n",
    "</div>"
   ]
  },
  {
   "cell_type": "markdown",
   "id": "0af6ab1c",
   "metadata": {},
   "source": [
    "Then, create an `AdaBoostRegressor`. Use the function\n",
    "`sklearn.model_selection.validation_curve` to get training and test scores\n",
    "by varying the number of estimators. Use the mean absolute error as a metric\n",
    "by passing `scoring=\"neg_mean_absolute_error\"`.\n",
    "*Hint: vary the number of estimators between 1 and 60.*"
   ]
  },
  {
   "cell_type": "code",
   "execution_count": 26,
   "id": "aead16da",
   "metadata": {},
   "outputs": [],
   "source": [
    "# Write your code here.\n",
    "from sklearn.ensemble import AdaBoostRegressor\n",
    "from sklearn.model_selection import validation_curve\n",
    "import pandas as pd\n",
    "import numpy as np\n",
    "\n",
    "n_estimators = np.arange(1, 100, 2)\n",
    "n_estimators\n",
    "\n",
    "model = AdaBoostRegressor()\n",
    "model.get_params()\n",
    "train_scores, test_scores = validation_curve(\n",
    "   model, data, target, param_name=\"n_estimators\", param_range=n_estimators,\n",
    "  cv=5, scoring=\"neg_mean_absolute_error\", n_jobs=2)"
   ]
  },
  {
   "cell_type": "code",
   "execution_count": 20,
   "id": "12950980",
   "metadata": {},
   "outputs": [],
   "source": [
    "train_errors, test_errors = -train_scores, -test_scores"
   ]
  },
  {
   "cell_type": "markdown",
   "id": "e3cb5cbb",
   "metadata": {},
   "source": [
    "Plot both the mean training and test errors. You can also plot the\n",
    "standard deviation of the errors.\n",
    "*Hint: you can use `plt.errorbar`.*"
   ]
  },
  {
   "cell_type": "code",
   "execution_count": 23,
   "id": "dfe00c74",
   "metadata": {},
   "outputs": [
    {
     "data": {
      "text/plain": [
       "<ErrorbarContainer object of 3 artists>"
      ]
     },
     "execution_count": 23,
     "metadata": {},
     "output_type": "execute_result"
    },
    {
     "data": {
      "image/png": "[encoded data removed]",
      "text/plain": [
       "<Figure size 432x288 with 1 Axes>"
      ]
     },
     "metadata": {
      "needs_background": "light"
     },
     "output_type": "display_data"
    }
   ],
   "source": [
    "# Write your code here.\n",
    "from matplotlib import pyplot as plt\n",
    "\n",
    "plt.errorbar(n_estimators, train_errors.mean(axis=1),\n",
    "             yerr=train_errors.std(axis=1), label=\"Training error\")\n",
    "\n",
    "plt.errorbar(n_estimators, test_errors.mean(axis=1),\n",
    "             yerr=train_errors.std(axis=1), label=\"Testing error\")"
   ]
  },
  {
   "cell_type": "markdown",
   "id": "3429d336",
   "metadata": {},
   "source": [
    "Plotting the validation curve, we can see that AdaBoost is not immune against\n",
    "overfitting. Indeed, there is an optimal number of estimators to be found.\n",
    "Adding too many estimators is detrimental for the statistical performance of\n",
    "the model."
   ]
  },
  {
   "cell_type": "markdown",
   "id": "4c80423f",
   "metadata": {},
   "source": [
    "Repeat the experiment using a random forest instead of an AdaBoost regressor."
   ]
  },
  {
   "cell_type": "code",
   "execution_count": null,
   "id": "af90f297",
   "metadata": {},
   "outputs": [],
   "source": [
    "# Write your code here.\n",
    "from sklearn.ensemble import RandomForestRegressor\n",
    "\n",
    "model = RandomForestRegressor()\n",
    "train_scores, test_scores = validation_curve(\n",
    "   model, data, target, param_name=\"n_estimators\", param_range=n_estimators,\n",
    "  cv=5, scoring=\"neg_mean_absolute_error\", n_jobs=2)\n",
    "\n",
    "# PLOT\n",
    "plt.errorbar(n_estimators, train_errors.mean(axis=1),\n",
    "             yerr=train_errors.std(axis=1), label=\"Training error\")\n",
    "\n",
    "plt.errorbar(n_estimators, test_errors.mean(axis=1),\n",
    "             yerr=train_errors.std(axis=1), label=\"Testing error\")"
   ]
  }
 ],
 "metadata": {
  "jupytext": {
   "cell_metadata_filter": "-all",
   "main_language": "python",
   "notebook_metadata_filter": "-all"
  },
  "kernelspec": {
   "display_name": "Python 3",
   "language": "python",
   "name": "python3"
  },
  "language_info": {
   "codemirror_mode": {
    "name": "ipython",
    "version": 3
   },
   "file_extension": ".py",
   "mimetype": "text/x-python",
   "name": "python",
   "nbconvert_exporter": "python",
   "pygments_lexer": "ipython3",
   "version": "3.9.4"
  }
 },
 "nbformat": 4,
 "nbformat_minor": 5
}
