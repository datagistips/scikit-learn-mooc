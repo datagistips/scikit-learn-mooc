{
 "cells": [
  {
   "cell_type": "markdown",
   "id": "ac04645b",
   "metadata": {},
   "source": [
    "# Effect of the sample size in cross-validation\n",
    "\n",
    "In the previous notebook, we presented the general cross-validation framework\n",
    "and how to assess if a predictive model is underfiting, overfitting, or\n",
    "generalizing. Besides these aspects, it is also important to understand how\n",
    "the different errors are influenced by the number of samples available.\n",
    "\n",
    "In this notebook, we will show this aspect by looking a the variability of\n",
    "the different errors.\n",
    "\n",
    "Let's first load the data and create the same model as in the previous\n",
    "notebook."
   ]
  },
  {
   "cell_type": "code",
   "execution_count": 1,
   "id": "aa5cfd60",
   "metadata": {},
   "outputs": [],
   "source": [
    "from sklearn.datasets import fetch_california_housing\n",
    "\n",
    "housing = fetch_california_housing(as_frame=True)\n",
    "data, target = housing.data, housing.target\n",
    "target *= 100  # rescale the target in k$"
   ]
  },
  {
   "cell_type": "markdown",
   "id": "a0209cdb",
   "metadata": {},
   "source": [
    "<div class=\"admonition note alert alert-info\">\n",
    "<p class=\"first admonition-title\" style=\"font-weight: bold;\">Note</p>\n",
    "<p class=\"last\">If you want a deeper overview regarding this dataset, you can refer to the\n",
    "Appendix - Datasets description section at the end of this MOOC.</p>\n",
    "</div>"
   ]
  },
  {
   "cell_type": "code",
   "execution_count": 2,
   "id": "5d585c2f",
   "metadata": {},
   "outputs": [],
   "source": [
    "from sklearn.tree import DecisionTreeRegressor\n",
    "\n",
    "regressor = DecisionTreeRegressor()"
   ]
  },
  {
   "cell_type": "markdown",
   "id": "f614ef30",
   "metadata": {},
   "source": [
    "## Learning curve\n",
    "\n",
    "To understand the impact of the number of samples available for training on\n",
    "the statistical performance of a predictive model, it is possible to\n",
    "synthetically reduce the number of samples used to train the predictive model\n",
    "and check the training and testing errors.\n",
    "\n",
    "Therefore, we can vary the number of samples in the training set and repeat\n",
    "the experiment. The training and testing scores can be plotted similarly to\n",
    "the validation curve, but instead of varying a hyperparameter, we vary the\n",
    "number of training samples. This curve is called the **learning curve**.\n",
    "\n",
    "It gives information regarding the benefit of adding new training samples\n",
    "to improve a model's statistical performance.\n",
    "\n",
    "Let's compute the learning curve for a decision tree and vary the\n",
    "proportion of the training set from 10% to 100%."
   ]
  },
  {
   "cell_type": "code",
   "execution_count": 3,
   "id": "f3e80326",
   "metadata": {},
   "outputs": [
    {
     "data": {
      "text/plain": [
       "array([0.1  , 0.325, 0.55 , 0.775, 1.   ])"
      ]
     },
     "execution_count": 3,
     "metadata": {},
     "output_type": "execute_result"
    }
   ],
   "source": [
    "import numpy as np\n",
    "train_sizes = np.linspace(0.1, 1.0, num=5, endpoint=True)\n",
    "train_sizes"
   ]
  },
  {
   "cell_type": "markdown",
   "id": "9bb42658",
   "metadata": {},
   "source": [
    "We will use a `ShuffleSplit` cross-validation to assess our predictive model."
   ]
  },
  {
   "cell_type": "code",
   "execution_count": 4,
   "id": "007f8576",
   "metadata": {},
   "outputs": [],
   "source": [
    "from sklearn.model_selection import ShuffleSplit\n",
    "\n",
    "cv = ShuffleSplit(n_splits=30, test_size=0.2)"
   ]
  },
  {
   "cell_type": "markdown",
   "id": "c5655b1b",
   "metadata": {},
   "source": [
    "Now, we are all set to carry out the experiment."
   ]
  },
  {
   "cell_type": "code",
   "execution_count": 8,
   "id": "e3c3ed7b",
   "metadata": {},
   "outputs": [
    {
     "name": "stdout",
     "output_type": "stream",
     "text": [
      "(array([ 1651,  5366,  9081, 12796, 16512]), array([[-3.16753152e-15, -3.27082059e-15, -3.23639090e-15,\n",
      "        -3.06424245e-15, -4.26928161e-15, -3.27082059e-15,\n",
      "        -5.09559418e-15, -1.99692204e-15, -4.26928161e-15,\n",
      "        -2.71994554e-15, -2.92652368e-15, -3.89055502e-15,\n",
      "        -4.09713316e-15, -3.23639090e-15, -5.57760985e-15,\n",
      "        -3.82169564e-15, -3.68397687e-15, -3.47739873e-15,\n",
      "        -3.54625811e-15, -4.30371130e-15, -3.89055502e-15,\n",
      "        -3.82169564e-15, -2.82323461e-15, -2.20350019e-15,\n",
      "        -4.33814099e-15, -2.03135173e-15, -3.30525028e-15,\n",
      "        -3.02981276e-15, -2.78880492e-15, -5.26774263e-15],\n",
      "       [-4.08899733e-15, -4.55510065e-15, -3.62289401e-15,\n",
      "        -3.91950521e-15, -3.48518166e-15, -3.04026486e-15,\n",
      "        -3.06145137e-15, -4.22670968e-15, -3.34746932e-15,\n",
      "        -3.34746932e-15, -3.31568955e-15, -3.29450303e-15,\n",
      "        -3.46399515e-15, -3.40043560e-15, -4.23730293e-15,\n",
      "        -4.16315013e-15, -3.59111424e-15, -3.31568955e-15,\n",
      "        -4.18433665e-15, -3.70764007e-15, -3.10382440e-15,\n",
      "        -3.11441766e-15, -2.82839971e-15, -3.17797720e-15,\n",
      "        -3.46399515e-15, -3.56992772e-15, -3.17797720e-15,\n",
      "        -3.13560417e-15, -3.23094349e-15, -2.99789183e-15],\n",
      "       [-3.17987631e-15, -3.23621270e-15, -3.63682704e-15,\n",
      "        -2.66658919e-15, -3.58675025e-15, -9.30176417e-15,\n",
      "        -3.17987631e-15, -3.24873190e-15, -3.22995310e-15,\n",
      "        -2.87941556e-15, -3.08598233e-15, -3.76201902e-15,\n",
      "        -2.94827115e-15, -3.13605912e-15, -3.64308664e-15,\n",
      "        -3.19865511e-15, -3.23621270e-15, -3.36766428e-15,\n",
      "        -9.70237851e-15, -3.20960941e-15, -3.04842473e-15,\n",
      "        -9.91520488e-15, -3.54293306e-15, -2.99208834e-15,\n",
      "        -3.57423105e-15, -3.38644308e-15, -3.27377030e-15,\n",
      "        -3.54293306e-15, -2.97956914e-15, -9.60848452e-15],\n",
      "       [-3.17623042e-15, -1.10968162e-14, -7.92947036e-15,\n",
      "        -7.45858864e-15, -7.47635776e-15, -3.32282567e-15,\n",
      "        -1.83910405e-14, -3.03407745e-15, -1.06570305e-14,\n",
      "        -3.22065323e-15, -3.65155442e-15, -3.51384373e-15,\n",
      "        -8.14269981e-15, -3.33171023e-15, -7.58297249e-15,\n",
      "        -3.05184657e-15, -3.68709266e-15, -3.29172971e-15,\n",
      "        -1.78268709e-14, -1.09635478e-14, -3.16734586e-15,\n",
      "        -3.29172971e-15, -3.36724848e-15, -3.69597722e-15,\n",
      "        -1.71916248e-14, -3.36724848e-15, -7.39195444e-15,\n",
      "        -8.64911977e-15, -1.77557944e-14, -2.75865607e-15],\n",
      "       [-3.50796050e-15, -3.55271368e-15, -3.47353498e-15,\n",
      "        -3.87287102e-15, -1.51162459e-14, -3.34271801e-15,\n",
      "        -3.79713487e-15, -1.22210597e-14, -3.62156472e-15,\n",
      "        -1.43313440e-14, -1.52573905e-14, -1.45551099e-14,\n",
      "        -3.28075207e-15, -1.54432883e-14, -1.57083648e-14,\n",
      "        -3.38058608e-15, -1.47341226e-14, -3.58025409e-15,\n",
      "        -1.58150840e-14, -3.87287102e-15, -1.37977485e-14,\n",
      "        -1.53537820e-14, -1.31367785e-14, -1.01314306e-14,\n",
      "        -9.95241787e-15, -6.94706996e-15, -8.95407779e-15,\n",
      "        -1.55878755e-14, -7.91442708e-15, -3.33239035e-15]]), array([[-55.15113953, -57.18165334, -55.85252253, -59.74791594,\n",
      "        -57.87485126, -58.42186676, -56.44942393, -57.87058891,\n",
      "        -53.07390213, -56.00029167, -56.6370155 , -57.46566764,\n",
      "        -57.55741982, -55.41024346, -60.53861676, -53.43991328,\n",
      "        -58.62662427, -54.02865431, -55.1832798 , -59.63500242,\n",
      "        -54.32201211, -57.83214608, -58.16034133, -56.16739826,\n",
      "        -56.32636047, -57.35457413, -55.72199201, -58.67318217,\n",
      "        -58.81998668, -54.27259981],\n",
      "       [-49.78265407, -51.20999564, -49.39253755, -51.78046802,\n",
      "        -49.24655766, -50.2157689 , -49.97691158, -51.84090891,\n",
      "        -47.84616885, -49.23100436, -51.12778585, -47.84231734,\n",
      "        -50.08881008, -50.65060199, -51.83362791, -51.2482483 ,\n",
      "        -51.02038857, -50.76780572, -51.84534593, -51.70292926,\n",
      "        -48.90251308, -53.05482049, -52.03340601, -51.03325872,\n",
      "        -48.80065359, -50.1269094 , -50.04767103, -51.85822771,\n",
      "        -48.01898353, -51.15699709],\n",
      "       [-47.53812452, -48.35648619, -47.84246197, -49.65687427,\n",
      "        -48.70168944, -49.6106749 , -51.68870712, -48.30658309,\n",
      "        -45.49781274, -50.19584981, -47.60493823, -48.5587391 ,\n",
      "        -47.32965141, -48.47686216, -49.96496463, -47.95873716,\n",
      "        -47.73703173, -47.15646245, -50.50610078, -47.63049394,\n",
      "        -46.87516158, -47.53335392, -46.54895446, -50.22630814,\n",
      "        -48.92179603, -46.84841812, -50.79123207, -49.77354506,\n",
      "        -45.88180402, -47.84914244],\n",
      "       [-47.81145518, -46.910797  , -45.78199855, -45.28596051,\n",
      "        -46.63572505, -46.37940359, -46.90421172, -47.91695397,\n",
      "        -45.20270858, -47.6468733 , -44.50035683, -47.31925436,\n",
      "        -46.6154094 , -47.77625775, -48.8087626 , -46.08846245,\n",
      "        -47.31629821, -47.34808212, -48.17089947, -48.09166594,\n",
      "        -45.64875557, -46.4802282 , -47.84439729, -45.63845858,\n",
      "        -47.29418096, -47.04389244, -46.82739414, -47.67860102,\n",
      "        -44.85788905, -46.64153828],\n",
      "       [-45.08940843, -47.07297989, -44.13504869, -44.8402483 ,\n",
      "        -45.25486313, -45.45960732, -45.75258963, -46.20655766,\n",
      "        -45.45835126, -46.57141231, -43.55195615, -45.88403077,\n",
      "        -45.32857752, -47.69284738, -46.55578149, -44.74790746,\n",
      "        -46.06690383, -46.18841328, -45.38349855, -45.25384181,\n",
      "        -45.53853513, -46.51259084, -46.02925848, -45.09977592,\n",
      "        -45.71753101, -44.63039559, -46.41007098, -45.45996996,\n",
      "        -43.11637088, -46.04178295]]))\n"
     ]
    }
   ],
   "source": [
    "from sklearn.model_selection import learning_curve\n",
    "\n",
    "results = learning_curve(\n",
    "    regressor, data, target, train_sizes=train_sizes, cv=cv,\n",
    "    scoring=\"neg_mean_absolute_error\", n_jobs=2)\n",
    "train_size, train_scores, test_scores = results[:3]\n",
    "# Convert the scores into errors\n",
    "train_errors, test_errors = -train_scores, -test_scores"
   ]
  },
  {
   "cell_type": "code",
   "execution_count": 10,
   "id": "f4c911ca",
   "metadata": {},
   "outputs": [
    {
     "name": "stdout",
     "output_type": "stream",
     "text": [
      "3\n"
     ]
    }
   ],
   "source": [
    "print(len(results))"
   ]
  },
  {
   "cell_type": "markdown",
   "id": "e10f905b",
   "metadata": {},
   "source": [
    "Now, we can plot the curve."
   ]
  },
  {
   "cell_type": "code",
   "execution_count": 6,
   "id": "0f000db9",
   "metadata": {},
   "outputs": [
    {
     "data": {
      "image/png": "[encoded data removed]",
      "text/plain": [
       "<Figure size 432x288 with 1 Axes>"
      ]
     },
     "metadata": {
      "needs_background": "light"
     },
     "output_type": "display_data"
    }
   ],
   "source": [
    "import matplotlib.pyplot as plt\n",
    "\n",
    "plt.errorbar(train_size, train_errors.mean(axis=1),\n",
    "             yerr=train_errors.std(axis=1), label=\"Training error\")\n",
    "plt.errorbar(train_size, test_errors.mean(axis=1),\n",
    "             yerr=test_errors.std(axis=1), label=\"Testing error\")\n",
    "plt.legend()\n",
    "\n",
    "plt.xscale(\"log\")\n",
    "plt.xlabel(\"Number of samples in the training set\")\n",
    "plt.ylabel(\"Mean absolute error (k$)\")\n",
    "_ = plt.title(\"Learning curve for decision tree\")"
   ]
  },
  {
   "cell_type": "markdown",
   "id": "c184a5e7",
   "metadata": {},
   "source": [
    "Looking at the training error alone, we see that we get an error of 0 k$. It\n",
    "means that the trained model (i.e. decision tree) is clearly overfitting the\n",
    "training data.\n",
    "\n",
    "Looking at the testing error alone, we observe that the more samples are\n",
    "added into the training set, the lower the testing error becomes. Also, we\n",
    "are searching for the plateau of the testing error for which there is no\n",
    "benefit to adding samples anymore or assessing the potential gain of adding\n",
    "more samples into the training set.\n",
    "\n",
    "If we achieve a plateau and adding new samples in the training set does not\n",
    "reduce the testing error, we might have reach the Bayes error rate using the\n",
    "available model. Using a more complex model might be the only possibility to\n",
    "reduce the testing error further.\n",
    "\n",
    "## Summary\n",
    "\n",
    "In the notebook, we learnt:\n",
    "\n",
    "* the influence of the number of samples in a dataset, especially on the\n",
    "  variability of the errors reported when running the cross-validation;\n",
    "* about the learning curve that is a visual representation of the capacity\n",
    "  of a model to improve by adding new samples."
   ]
  }
 ],
 "metadata": {
  "jupytext": {
   "cell_metadata_filter": "-all",
   "main_language": "python",
   "notebook_metadata_filter": "-all"
  },
  "kernelspec": {
   "display_name": "Python 3",
   "language": "python",
   "name": "python3"
  },
  "language_info": {
   "codemirror_mode": {
    "name": "ipython",
    "version": 3
   },
   "file_extension": ".py",
   "mimetype": "text/x-python",
   "name": "python",
   "nbconvert_exporter": "python",
   "pygments_lexer": "ipython3",
   "version": "3.9.4"
  }
 },
 "nbformat": 4,
 "nbformat_minor": 5
}
