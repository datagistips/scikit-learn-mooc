{
 "cells": [
  {
   "cell_type": "code",
   "execution_count": 2,
   "id": "abd50107",
   "metadata": {},
   "outputs": [],
   "source": [
    "import pandas as pd\n",
    "ames_housing = pd.read_csv(\"datasets/house_prices.csv\", na_values=\"?\")\n",
    "target_name = \"SalePrice\"\n",
    "data = ames_housing.drop(columns=target_name)\n",
    "target = ames_housing[target_name]"
   ]
  },
  {
   "cell_type": "code",
   "execution_count": 3,
   "id": "f185fda2",
   "metadata": {},
   "outputs": [],
   "source": [
    "numerical_features = [\n",
    "    \"LotFrontage\", \"LotArea\", \"MasVnrArea\", \"BsmtFinSF1\", \"BsmtFinSF2\",\n",
    "    \"BsmtUnfSF\", \"TotalBsmtSF\", \"1stFlrSF\", \"2ndFlrSF\", \"LowQualFinSF\",\n",
    "    \"GrLivArea\", \"BedroomAbvGr\", \"KitchenAbvGr\", \"TotRmsAbvGrd\", \"Fireplaces\",\n",
    "    \"GarageCars\", \"GarageArea\", \"WoodDeckSF\", \"OpenPorchSF\", \"EnclosedPorch\",\n",
    "    \"3SsnPorch\", \"ScreenPorch\", \"PoolArea\", \"MiscVal\",\n",
    "]\n",
    "\n",
    "data_numerical = data[numerical_features]"
   ]
  },
  {
   "cell_type": "code",
   "execution_count": 21,
   "id": "59767af8",
   "metadata": {},
   "outputs": [],
   "source": [
    "from sklearn.linear_model import LinearRegression\n",
    "from sklearn.tree import DecisionTreeRegressor \n",
    "from sklearn.pipeline import make_pipeline\n",
    "from sklearn.model_selection import cross_val_score, cross_validate\n",
    "\n",
    "\n",
    "from sklearn.impute import SimpleImputer\n",
    "from sklearn.preprocessing import StandardScaler\n",
    "\n",
    "model1 = make_pipeline(StandardScaler(), SimpleImputer(strategy = \"mean\"), LinearRegression())\n",
    "model2 = make_pipeline(SimpleImputer(strategy = \"mean\"), DecisionTreeRegressor())\n",
    "\n",
    "cv1 = cross_val_score(model1, data_numerical, target, cv = 10, scoring='r2')\n",
    "cv2 = cross_val_score(model2, data_numerical, target, cv = 10, scoring='r2')"
   ]
  },
  {
   "cell_type": "code",
   "execution_count": 23,
   "id": "5a5218d9",
   "metadata": {},
   "outputs": [
    {
     "name": "stdout",
     "output_type": "stream",
     "text": [
      "linear :  0.720027306286322 0.13735454339342962\n",
      "dec. tree :  0.6219352165151012 0.09852659122181164\n"
     ]
    }
   ],
   "source": [
    "print(\"linear : \", cv1.mean(), cv1.std())\n",
    "print(\"dec. tree : \", cv2.mean(), cv2.std())"
   ]
  },
  {
   "cell_type": "markdown",
   "id": "93e05cb4",
   "metadata": {},
   "source": [
    "# Solution"
   ]
  },
  {
   "cell_type": "code",
   "execution_count": 27,
   "id": "12b009ac",
   "metadata": {},
   "outputs": [
    {
     "data": {
      "text/plain": [
       "0.7189885186244973"
      ]
     },
     "execution_count": 27,
     "metadata": {},
     "output_type": "execute_result"
    }
   ],
   "source": [
    "# Linear Regression\n",
    "\n",
    "from sklearn.model_selection import cross_validate\n",
    "from sklearn.pipeline import make_pipeline\n",
    "from sklearn.impute import SimpleImputer\n",
    "from sklearn.preprocessing import StandardScaler\n",
    "from sklearn.linear_model import LinearRegression\n",
    "\n",
    "linear_regression = make_pipeline(\n",
    "    StandardScaler(), SimpleImputer(), LinearRegression()\n",
    ")\n",
    "cv_results_linear_regression = cross_validate(\n",
    "    linear_regression, data_numerical, target, cv=10, return_estimator=True,\n",
    "    n_jobs=2\n",
    ")\n",
    "cv_results_linear_regression[\"test_score\"].mean()"
   ]
  },
  {
   "cell_type": "code",
   "execution_count": 28,
   "id": "34e5953b",
   "metadata": {},
   "outputs": [
    {
     "data": {
      "text/plain": [
       "0.6224784392065366"
      ]
     },
     "execution_count": 28,
     "metadata": {},
     "output_type": "execute_result"
    }
   ],
   "source": [
    "from sklearn.tree import DecisionTreeRegressor\n",
    "\n",
    "tree = make_pipeline(\n",
    "    SimpleImputer(), DecisionTreeRegressor(random_state=0)\n",
    ")\n",
    "cv_results_tree = cross_validate(\n",
    "    tree, data_numerical, target, cv=10, n_jobs=2\n",
    ")\n",
    "cv_results_tree[\"test_score\"].mean()"
   ]
  },
  {
   "cell_type": "markdown",
   "id": "76eaab68",
   "metadata": {},
   "source": [
    "# Moi"
   ]
  },
  {
   "cell_type": "code",
   "execution_count": 50,
   "id": "f29a36a9",
   "metadata": {},
   "outputs": [
    {
     "name": "stdout",
     "output_type": "stream",
     "text": [
      "{'memory': None, 'steps': [('simpleimputer', SimpleImputer()), ('decisiontreeregressor', DecisionTreeRegressor())], 'verbose': False, 'simpleimputer': SimpleImputer(), 'decisiontreeregressor': DecisionTreeRegressor(), 'simpleimputer__add_indicator': False, 'simpleimputer__copy': True, 'simpleimputer__fill_value': None, 'simpleimputer__missing_values': nan, 'simpleimputer__strategy': 'mean', 'simpleimputer__verbose': 0, 'decisiontreeregressor__ccp_alpha': 0.0, 'decisiontreeregressor__criterion': 'mse', 'decisiontreeregressor__max_depth': None, 'decisiontreeregressor__max_features': None, 'decisiontreeregressor__max_leaf_nodes': None, 'decisiontreeregressor__min_impurity_decrease': 0.0, 'decisiontreeregressor__min_impurity_split': None, 'decisiontreeregressor__min_samples_leaf': 1, 'decisiontreeregressor__min_samples_split': 2, 'decisiontreeregressor__min_weight_fraction_leaf': 0.0, 'decisiontreeregressor__random_state': None, 'decisiontreeregressor__splitter': 'best'}\n",
      ">> Clés des résultats :  dict_keys(['mean_fit_time', 'std_fit_time', 'mean_score_time', 'std_score_time', 'param_decisiontreeregressor__max_depth', 'params', 'split0_test_score', 'split1_test_score', 'split2_test_score', 'split3_test_score', 'split4_test_score', 'split5_test_score', 'split6_test_score', 'split7_test_score', 'split8_test_score', 'split9_test_score', 'mean_test_score', 'std_test_score', 'rank_test_score'])\n",
      ">> Profondeur :  6\n"
     ]
    }
   ],
   "source": [
    "from sklearn.model_selection import GridSearchCV\n",
    "print(model2.get_params())\n",
    "param_grid = {\"decisiontreeregressor__max_depth\" : np.arange(1, 15, 1)}\n",
    "tree_clf = GridSearchCV(model2, param_grid = param_grid, cv = 10)\n",
    "tree_clf.fit(data_numerical, target)\n",
    "print(\">> Clés des résultats : \", tree_clf.cv_results_.keys())\n",
    "print(\">> Profondeur : \", tree_clf.best_params_['decisiontreeregressor__max_depth'])"
   ]
  },
  {
   "cell_type": "code",
   "execution_count": 51,
   "id": "2ce65738",
   "metadata": {},
   "outputs": [
    {
     "data": {
      "text/plain": [
       "{'decisiontreeregressor__max_depth': 6}"
      ]
     },
     "execution_count": 51,
     "metadata": {},
     "output_type": "execute_result"
    }
   ],
   "source": [
    "tree_clf.best_params_"
   ]
  },
  {
   "cell_type": "markdown",
   "id": "dcc01fb1",
   "metadata": {},
   "source": [
    "# Solution"
   ]
  },
  {
   "cell_type": "code",
   "execution_count": 60,
   "id": "5ea6f106",
   "metadata": {},
   "outputs": [
    {
     "data": {
      "text/plain": [
       "0.6672402956343579"
      ]
     },
     "execution_count": 60,
     "metadata": {},
     "output_type": "execute_result"
    }
   ],
   "source": [
    "import numpy as np\n",
    "from sklearn.model_selection import GridSearchCV\n",
    "\n",
    "params = {\"decisiontreeregressor__max_depth\": np.arange(1, 15)}\n",
    "search = GridSearchCV(tree, params, cv=10)\n",
    "cv_results_tree_optimal_depth = cross_validate(\n",
    "    search, data_numerical, target, cv=10, return_estimator=True, n_jobs=2,\n",
    ")\n",
    "cv_results_tree_optimal_depth[\"test_score\"].mean()"
   ]
  },
  {
   "cell_type": "code",
   "execution_count": 59,
   "id": "57d35f3c",
   "metadata": {},
   "outputs": [
    {
     "data": {
      "text/plain": [
       "array([0.62364186, 0.75007937, 0.7092939 , 0.61593787, 0.76008656,\n",
       "       0.72481088, 0.69675545, 0.73549956, 0.63187688, 0.72866512])"
      ]
     },
     "execution_count": 59,
     "metadata": {},
     "output_type": "execute_result"
    }
   ],
   "source": [
    "cv_results_tree_optimal_depth[\"test_score\"]"
   ]
  },
  {
   "cell_type": "code",
   "execution_count": 58,
   "id": "ae1e116f",
   "metadata": {},
   "outputs": [
    {
     "name": "stderr",
     "output_type": "stream",
     "text": [
      "C:\\Users\\mathieu.rajerison\\Miniconda3\\envs\\scikit-learn-course\\lib\\site-packages\\seaborn\\_decorators.py:36: FutureWarning: Pass the following variable as a keyword arg: x. From version 0.12, the only valid positional argument will be `data`, and passing other arguments without an explicit keyword will result in an error or misinterpretation.\n",
      "  warnings.warn(\n"
     ]
    },
    {
     "data": {
      "text/plain": [
       "<AxesSubplot:xlabel='max depth'>"
      ]
     },
     "execution_count": 58,
     "metadata": {},
     "output_type": "execute_result"
    },
    {
     "data": {
      "image/png": "[encoded data removed]",
      "text/plain": [
       "<Figure size 432x288 with 1 Axes>"
      ]
     },
     "metadata": {
      "needs_background": "light"
     },
     "output_type": "display_data"
    }
   ],
   "source": [
    "import seaborn as sns\n",
    "sns.set_context(\"talk\")\n",
    "\n",
    "# Meilleurs paramètres par folds\n",
    "max_depth = [\n",
    "    estimator.best_params_[\"decisiontreeregressor__max_depth\"]\n",
    "    for estimator in cv_results_tree_optimal_depth[\"estimator\"]\n",
    "]\n",
    "max_depth = pd.Series(max_depth, name=\"max depth\")\n",
    "sns.swarmplot(max_depth)"
   ]
  },
  {
   "cell_type": "markdown",
   "id": "9cc8dca4",
   "metadata": {},
   "source": [
    "# Moi"
   ]
  },
  {
   "cell_type": "code",
   "execution_count": 72,
   "id": "df679329",
   "metadata": {},
   "outputs": [
    {
     "name": "stdout",
     "output_type": "stream",
     "text": [
      "0.7422387767852034\n"
     ]
    }
   ],
   "source": [
    "from sklearn.preprocessing import OneHotEncoder\n",
    "from sklearn.compose import make_column_selector as selector\n",
    "from sklearn.compose import ColumnTransformer\n",
    "\n",
    "numerical_columns_selector = selector(dtype_exclude=object)\n",
    "categorical_columns_selector = selector(dtype_include=object)\n",
    "\n",
    "numerical_columns = numerical_columns_selector(data)\n",
    "categorical_columns = categorical_columns_selector(data)\n",
    "\n",
    "categorical_preprocessor = OneHotEncoder(handle_unknown=\"ignore\")\n",
    "numerical_preprocessor = make_pipeline(StandardScaler(), SimpleImputer(strategy=\"mean\"))\n",
    "\n",
    "preprocessor = ColumnTransformer([\n",
    "    ('one-hot-encoder', categorical_preprocessor, categorical_columns),\n",
    "    ('standard-impute', numerical_preprocessor, numerical_columns)])\n",
    "\n",
    "model = make_pipeline(preprocessor, DecisionTreeRegressor())\n",
    "\n",
    "test_scores = cross_val_score(model, data, target, cv = 10)\n",
    "print(test_scores.mean())"
   ]
  },
  {
   "cell_type": "markdown",
   "id": "cd0c1b8d",
   "metadata": {},
   "source": [
    "# Solution\n",
    "\n",
    "Pour les var. catégorielles, utilisation de :\n",
    "```\n",
    "SimpleImputer(strategy=\"constant\", fill_value=\"missing\"),\n",
    "OrdinalEncoder(handle_unknown=\"use_encoded_value\", unknown_value=-1)\n",
    "```\n",
    "\n",
    "Utilisation de `make_column_transformer`"
   ]
  },
  {
   "cell_type": "code",
   "execution_count": 73,
   "id": "ac65c7a3",
   "metadata": {},
   "outputs": [],
   "source": [
    "from sklearn.compose import make_column_transformer\n",
    "from sklearn.compose import make_column_selector as selector\n",
    "from sklearn.preprocessing import OrdinalEncoder\n",
    "\n",
    "# Utilisation de SimpleImputer et de \n",
    "categorical_processor = make_pipeline(\n",
    "    SimpleImputer(strategy=\"constant\", fill_value=\"missing\"),\n",
    "    OrdinalEncoder(handle_unknown=\"use_encoded_value\", unknown_value=-1)\n",
    ")\n",
    "numerical_processor = SimpleImputer()\n",
    "\n",
    "preprocessor = make_column_transformer(\n",
    "    (categorical_processor, selector(dtype_include=object)),\n",
    "    (numerical_processor, selector(dtype_exclude=object))\n",
    ")\n",
    "tree = make_pipeline(preprocessor, DecisionTreeRegressor(random_state=0))"
   ]
  },
  {
   "cell_type": "code",
   "execution_count": null,
   "id": "495cd0d6",
   "metadata": {},
   "outputs": [],
   "source": [
    "cv_results = cross_validate(\n",
    "    tree, data, target, cv=10, return_estimator=True, n_jobs=2\n",
    ")\n",
    "cv_results[\"test_score\"].mean()"
   ]
  }
 ],
 "metadata": {
  "kernelspec": {
   "display_name": "Python 3",
   "language": "python",
   "name": "python3"
  },
  "language_info": {
   "codemirror_mode": {
    "name": "ipython",
    "version": 3
   },
   "file_extension": ".py",
   "mimetype": "text/x-python",
   "name": "python",
   "nbconvert_exporter": "python",
   "pygments_lexer": "ipython3",
   "version": "3.9.4"
  }
 },
 "nbformat": 4,
 "nbformat_minor": 5
}
