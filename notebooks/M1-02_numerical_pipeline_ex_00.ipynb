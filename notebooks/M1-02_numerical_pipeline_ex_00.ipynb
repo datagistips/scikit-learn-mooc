{
 "cells": [
  {
   "cell_type": "markdown",
   "id": "8cd569f3",
   "metadata": {},
   "source": [
    "# 📝 Exercise M1.02\n",
    "\n",
    "The goal of this exercise is to fit a similar model as in the previous\n",
    "notebook to get familiar with manipulating scikit-learn objects and in\n",
    "particular the `.fit/.predict/.score` API."
   ]
  },
  {
   "cell_type": "markdown",
   "id": "65438501",
   "metadata": {},
   "source": [
    "Let's load the adult census dataset with only numerical variables"
   ]
  },
  {
   "cell_type": "code",
   "execution_count": 1,
   "id": "2b12f033",
   "metadata": {},
   "outputs": [],
   "source": [
    "import pandas as pd\n",
    "adult_census = pd.read_csv(\"../datasets/adult-census-numeric.csv\")\n",
    "data = adult_census.drop(columns=\"class\")\n",
    "target = adult_census[\"class\"]"
   ]
  },
  {
   "cell_type": "markdown",
   "id": "4ce5e0aa",
   "metadata": {},
   "source": [
    "In the previous notebook we used `model = KNeighborsClassifier()`. All\n",
    "scikit-learn models can be created without arguments, which means that you\n",
    "don't need to understand the details of the model to use it in scikit-learn.\n",
    "\n",
    "One of the `KNeighborsClassifier` parameters is `n_neighbors`. It controls\n",
    "the number of neighbors we are going to use to make a prediction for a new\n",
    "data point.\n",
    "\n",
    "What is the default value of the `n_neighbors` parameter? Hint: Look at the\n",
    "help inside your notebook `KNeighborsClassifier?` or on the [scikit-learn\n",
    "website](https://scikit-learn.org/stable/modules/generated/sklearn.neighbors.KNeighborsClassifier.html)"
   ]
  },
  {
   "cell_type": "markdown",
   "id": "8d45655c",
   "metadata": {},
   "source": [
    "Default is 5"
   ]
  },
  {
   "cell_type": "markdown",
   "id": "0036785e",
   "metadata": {},
   "source": [
    "Create a `KNeighborsClassifier` model with `n_neighbors=50`"
   ]
  },
  {
   "cell_type": "code",
   "execution_count": 2,
   "id": "b8043e9a",
   "metadata": {},
   "outputs": [],
   "source": [
    "# Write your code here.\n",
    "from sklearn import set_config\n",
    "set_config(display='diagram')"
   ]
  },
  {
   "cell_type": "code",
   "execution_count": 4,
   "id": "dd751001",
   "metadata": {},
   "outputs": [
    {
     "data": {
      "text/html": [
       "<style>#sk-642741ee-b740-4d88-a4bd-ca35dce3a34b {color: black;background-color: white;}#sk-642741ee-b740-4d88-a4bd-ca35dce3a34b pre{padding: 0;}#sk-642741ee-b740-4d88-a4bd-ca35dce3a34b div.sk-toggleable {background-color: white;}#sk-642741ee-b740-4d88-a4bd-ca35dce3a34b label.sk-toggleable__label {cursor: pointer;display: block;width: 100%;margin-bottom: 0;padding: 0.2em 0.3em;box-sizing: border-box;text-align: center;}#sk-642741ee-b740-4d88-a4bd-ca35dce3a34b div.sk-toggleable__content {max-height: 0;max-width: 0;overflow: hidden;text-align: left;background-color: #f0f8ff;}#sk-642741ee-b740-4d88-a4bd-ca35dce3a34b div.sk-toggleable__content pre {margin: 0.2em;color: black;border-radius: 0.25em;background-color: #f0f8ff;}#sk-642741ee-b740-4d88-a4bd-ca35dce3a34b input.sk-toggleable__control:checked~div.sk-toggleable__content {max-height: 200px;max-width: 100%;overflow: auto;}#sk-642741ee-b740-4d88-a4bd-ca35dce3a34b div.sk-estimator input.sk-toggleable__control:checked~label.sk-toggleable__label {background-color: #d4ebff;}#sk-642741ee-b740-4d88-a4bd-ca35dce3a34b div.sk-label input.sk-toggleable__control:checked~label.sk-toggleable__label {background-color: #d4ebff;}#sk-642741ee-b740-4d88-a4bd-ca35dce3a34b input.sk-hidden--visually {border: 0;clip: rect(1px 1px 1px 1px);clip: rect(1px, 1px, 1px, 1px);height: 1px;margin: -1px;overflow: hidden;padding: 0;position: absolute;width: 1px;}#sk-642741ee-b740-4d88-a4bd-ca35dce3a34b div.sk-estimator {font-family: monospace;background-color: #f0f8ff;margin: 0.25em 0.25em;border: 1px dotted black;border-radius: 0.25em;box-sizing: border-box;}#sk-642741ee-b740-4d88-a4bd-ca35dce3a34b div.sk-estimator:hover {background-color: #d4ebff;}#sk-642741ee-b740-4d88-a4bd-ca35dce3a34b div.sk-parallel-item::after {content: \"\";width: 100%;border-bottom: 1px solid gray;flex-grow: 1;}#sk-642741ee-b740-4d88-a4bd-ca35dce3a34b div.sk-label:hover label.sk-toggleable__label {background-color: #d4ebff;}#sk-642741ee-b740-4d88-a4bd-ca35dce3a34b div.sk-serial::before {content: \"\";position: absolute;border-left: 1px solid gray;box-sizing: border-box;top: 2em;bottom: 0;left: 50%;}#sk-642741ee-b740-4d88-a4bd-ca35dce3a34b div.sk-serial {display: flex;flex-direction: column;align-items: center;background-color: white;}#sk-642741ee-b740-4d88-a4bd-ca35dce3a34b div.sk-item {z-index: 1;}#sk-642741ee-b740-4d88-a4bd-ca35dce3a34b div.sk-parallel {display: flex;align-items: stretch;justify-content: center;background-color: white;}#sk-642741ee-b740-4d88-a4bd-ca35dce3a34b div.sk-parallel-item {display: flex;flex-direction: column;position: relative;background-color: white;}#sk-642741ee-b740-4d88-a4bd-ca35dce3a34b div.sk-parallel-item:first-child::after {align-self: flex-end;width: 50%;}#sk-642741ee-b740-4d88-a4bd-ca35dce3a34b div.sk-parallel-item:last-child::after {align-self: flex-start;width: 50%;}#sk-642741ee-b740-4d88-a4bd-ca35dce3a34b div.sk-parallel-item:only-child::after {width: 0;}#sk-642741ee-b740-4d88-a4bd-ca35dce3a34b div.sk-dashed-wrapped {border: 1px dashed gray;margin: 0.2em;box-sizing: border-box;padding-bottom: 0.1em;background-color: white;position: relative;}#sk-642741ee-b740-4d88-a4bd-ca35dce3a34b div.sk-label label {font-family: monospace;font-weight: bold;background-color: white;display: inline-block;line-height: 1.2em;}#sk-642741ee-b740-4d88-a4bd-ca35dce3a34b div.sk-label-container {position: relative;z-index: 2;text-align: center;}#sk-642741ee-b740-4d88-a4bd-ca35dce3a34b div.sk-container {display: inline-block;position: relative;}</style><div id=\"sk-642741ee-b740-4d88-a4bd-ca35dce3a34b\" class\"sk-top-container\"><div class=\"sk-container\"><div class=\"sk-item\"><div class=\"sk-estimator sk-toggleable\"><input class=\"sk-toggleable__control sk-hidden--visually\" id=\"07e55538-9875-4d9d-aa02-9c9af0f9830b\" type=\"checkbox\" checked><label class=\"sk-toggleable__label\" for=\"07e55538-9875-4d9d-aa02-9c9af0f9830b\">KNeighborsClassifier</label><div class=\"sk-toggleable__content\"><pre>KNeighborsClassifier(n_neighbors=50)</pre></div></div></div></div></div>"
      ],
      "text/plain": [
       "KNeighborsClassifier(n_neighbors=50)"
      ]
     },
     "execution_count": 4,
     "metadata": {},
     "output_type": "execute_result"
    }
   ],
   "source": [
    "from sklearn.neighbors import KNeighborsClassifier\n",
    "\n",
    "model = KNeighborsClassifier(n_neighbors = 50)\n",
    "model.fit(data, target)\n",
    "model"
   ]
  },
  {
   "cell_type": "markdown",
   "id": "8d6df8ef",
   "metadata": {},
   "source": [
    "Fit this model on the data and target loaded above"
   ]
  },
  {
   "cell_type": "code",
   "execution_count": 5,
   "id": "af7f3462",
   "metadata": {},
   "outputs": [
    {
     "data": {
      "text/html": [
       "<style>#sk-3a44437f-c7e1-4b9c-8bfd-5ff3727c3d66 {color: black;background-color: white;}#sk-3a44437f-c7e1-4b9c-8bfd-5ff3727c3d66 pre{padding: 0;}#sk-3a44437f-c7e1-4b9c-8bfd-5ff3727c3d66 div.sk-toggleable {background-color: white;}#sk-3a44437f-c7e1-4b9c-8bfd-5ff3727c3d66 label.sk-toggleable__label {cursor: pointer;display: block;width: 100%;margin-bottom: 0;padding: 0.2em 0.3em;box-sizing: border-box;text-align: center;}#sk-3a44437f-c7e1-4b9c-8bfd-5ff3727c3d66 div.sk-toggleable__content {max-height: 0;max-width: 0;overflow: hidden;text-align: left;background-color: #f0f8ff;}#sk-3a44437f-c7e1-4b9c-8bfd-5ff3727c3d66 div.sk-toggleable__content pre {margin: 0.2em;color: black;border-radius: 0.25em;background-color: #f0f8ff;}#sk-3a44437f-c7e1-4b9c-8bfd-5ff3727c3d66 input.sk-toggleable__control:checked~div.sk-toggleable__content {max-height: 200px;max-width: 100%;overflow: auto;}#sk-3a44437f-c7e1-4b9c-8bfd-5ff3727c3d66 div.sk-estimator input.sk-toggleable__control:checked~label.sk-toggleable__label {background-color: #d4ebff;}#sk-3a44437f-c7e1-4b9c-8bfd-5ff3727c3d66 div.sk-label input.sk-toggleable__control:checked~label.sk-toggleable__label {background-color: #d4ebff;}#sk-3a44437f-c7e1-4b9c-8bfd-5ff3727c3d66 input.sk-hidden--visually {border: 0;clip: rect(1px 1px 1px 1px);clip: rect(1px, 1px, 1px, 1px);height: 1px;margin: -1px;overflow: hidden;padding: 0;position: absolute;width: 1px;}#sk-3a44437f-c7e1-4b9c-8bfd-5ff3727c3d66 div.sk-estimator {font-family: monospace;background-color: #f0f8ff;margin: 0.25em 0.25em;border: 1px dotted black;border-radius: 0.25em;box-sizing: border-box;}#sk-3a44437f-c7e1-4b9c-8bfd-5ff3727c3d66 div.sk-estimator:hover {background-color: #d4ebff;}#sk-3a44437f-c7e1-4b9c-8bfd-5ff3727c3d66 div.sk-parallel-item::after {content: \"\";width: 100%;border-bottom: 1px solid gray;flex-grow: 1;}#sk-3a44437f-c7e1-4b9c-8bfd-5ff3727c3d66 div.sk-label:hover label.sk-toggleable__label {background-color: #d4ebff;}#sk-3a44437f-c7e1-4b9c-8bfd-5ff3727c3d66 div.sk-serial::before {content: \"\";position: absolute;border-left: 1px solid gray;box-sizing: border-box;top: 2em;bottom: 0;left: 50%;}#sk-3a44437f-c7e1-4b9c-8bfd-5ff3727c3d66 div.sk-serial {display: flex;flex-direction: column;align-items: center;background-color: white;}#sk-3a44437f-c7e1-4b9c-8bfd-5ff3727c3d66 div.sk-item {z-index: 1;}#sk-3a44437f-c7e1-4b9c-8bfd-5ff3727c3d66 div.sk-parallel {display: flex;align-items: stretch;justify-content: center;background-color: white;}#sk-3a44437f-c7e1-4b9c-8bfd-5ff3727c3d66 div.sk-parallel-item {display: flex;flex-direction: column;position: relative;background-color: white;}#sk-3a44437f-c7e1-4b9c-8bfd-5ff3727c3d66 div.sk-parallel-item:first-child::after {align-self: flex-end;width: 50%;}#sk-3a44437f-c7e1-4b9c-8bfd-5ff3727c3d66 div.sk-parallel-item:last-child::after {align-self: flex-start;width: 50%;}#sk-3a44437f-c7e1-4b9c-8bfd-5ff3727c3d66 div.sk-parallel-item:only-child::after {width: 0;}#sk-3a44437f-c7e1-4b9c-8bfd-5ff3727c3d66 div.sk-dashed-wrapped {border: 1px dashed gray;margin: 0.2em;box-sizing: border-box;padding-bottom: 0.1em;background-color: white;position: relative;}#sk-3a44437f-c7e1-4b9c-8bfd-5ff3727c3d66 div.sk-label label {font-family: monospace;font-weight: bold;background-color: white;display: inline-block;line-height: 1.2em;}#sk-3a44437f-c7e1-4b9c-8bfd-5ff3727c3d66 div.sk-label-container {position: relative;z-index: 2;text-align: center;}#sk-3a44437f-c7e1-4b9c-8bfd-5ff3727c3d66 div.sk-container {display: inline-block;position: relative;}</style><div id=\"sk-3a44437f-c7e1-4b9c-8bfd-5ff3727c3d66\" class\"sk-top-container\"><div class=\"sk-container\"><div class=\"sk-item\"><div class=\"sk-estimator sk-toggleable\"><input class=\"sk-toggleable__control sk-hidden--visually\" id=\"7f70d0b7-c6ce-471e-b09d-dfa7198fd250\" type=\"checkbox\" checked><label class=\"sk-toggleable__label\" for=\"7f70d0b7-c6ce-471e-b09d-dfa7198fd250\">KNeighborsClassifier</label><div class=\"sk-toggleable__content\"><pre>KNeighborsClassifier(n_neighbors=50)</pre></div></div></div></div></div>"
      ],
      "text/plain": [
       "KNeighborsClassifier(n_neighbors=50)"
      ]
     },
     "execution_count": 5,
     "metadata": {},
     "output_type": "execute_result"
    }
   ],
   "source": [
    "# Write your code here.\n",
    "model.fit(data, target)"
   ]
  },
  {
   "cell_type": "markdown",
   "id": "1abdfe67",
   "metadata": {},
   "source": [
    "Use your model to make predictions on the first 10 data points inside the\n",
    "data. Do they match the actual target values?"
   ]
  },
  {
   "cell_type": "code",
   "execution_count": 10,
   "id": "94a03e99",
   "metadata": {},
   "outputs": [
    {
     "name": "stdout",
     "output_type": "stream",
     "text": [
      "1.0\n"
     ]
    }
   ],
   "source": [
    "# Write your code here.\n",
    "target_predicted = model.predict(data[:5])\n",
    "target_predicted == target[:5]\n",
    "print((target_predicted == target[:5]).mean())"
   ]
  },
  {
   "cell_type": "markdown",
   "id": "d03f38cf",
   "metadata": {},
   "source": [
    "Compute the accuracy on the training data."
   ]
  },
  {
   "cell_type": "code",
   "execution_count": 14,
   "id": "9f0e5b89",
   "metadata": {},
   "outputs": [
    {
     "name": "stdout",
     "output_type": "stream",
     "text": [
      "0.8289867683566657\n"
     ]
    }
   ],
   "source": [
    "# Write your code here.\n",
    "acc = model.score(data, target)\n",
    "print(acc)"
   ]
  },
  {
   "cell_type": "markdown",
   "id": "d46c2a16",
   "metadata": {},
   "source": [
    "Now load the test data from `\"../datasets/adult-census-numeric-test.csv\"` and\n",
    "compute the accuracy on the test data."
   ]
  },
  {
   "cell_type": "code",
   "execution_count": 24,
   "id": "3bfe041c",
   "metadata": {},
   "outputs": [
    {
     "name": "stdout",
     "output_type": "stream",
     "text": [
      "the accuracy is 0.8182004299314157 %\n"
     ]
    }
   ],
   "source": [
    "# Write your code here.\n",
    "adult_census_test = pd.read_csv('../datasets/adult-census-numeric-test.csv')\n",
    "data_test = adult_census_test.drop(columns = 'class')\n",
    "target_test = adult_census_test['class']\n",
    "acc = model.score(data_test, target_test)\n",
    "print(f\"the accuracy is {acc} %\")"
   ]
  },
  {
   "cell_type": "code",
   "execution_count": null,
   "id": "e42fb9c5",
   "metadata": {},
   "outputs": [],
   "source": []
  }
 ],
 "metadata": {
  "kernelspec": {
   "display_name": "Python 3",
   "language": "python",
   "name": "python3"
  },
  "language_info": {
   "codemirror_mode": {
    "name": "ipython",
    "version": 3
   },
   "file_extension": ".py",
   "mimetype": "text/x-python",
   "name": "python",
   "nbconvert_exporter": "python",
   "pygments_lexer": "ipython3",
   "version": "3.9.4"
  }
 },
 "nbformat": 4,
 "nbformat_minor": 5
}
