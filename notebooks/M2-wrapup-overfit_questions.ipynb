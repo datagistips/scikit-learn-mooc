{
 "cells": [
  {
   "cell_type": "code",
   "execution_count": 5,
   "metadata": {},
   "outputs": [
    {
     "data": {
      "text/plain": [
       "donated        178\n",
       "not donated    570\n",
       "Name: Class, dtype: int64"
      ]
     },
     "execution_count": 5,
     "metadata": {},
     "output_type": "execute_result"
    }
   ],
   "source": [
    "import pandas as pd\n",
    "\n",
    "blood_transfusion = pd.read_csv(\"../datasets/blood_transfusion.csv\")\n",
    "target_name = \"Class\"\n",
    "data = blood_transfusion.drop(columns=target_name)\n",
    "target = blood_transfusion[target_name]\n",
    "\n",
    "target.unique()\n",
    "target.value_counts().sort_index()"
   ]
  },
  {
   "cell_type": "markdown",
   "metadata": {},
   "source": [
    "Dataset is imbalanced\n",
    "\n",
    "Dummy Classifier :"
   ]
  },
  {
   "cell_type": "code",
   "execution_count": 6,
   "metadata": {},
   "outputs": [
    {
     "name": "stdout",
     "output_type": "stream",
     "text": [
      "0.762054054054054\n"
     ]
    }
   ],
   "source": [
    "from sklearn.dummy import DummyClassifier\n",
    "from sklearn.model_selection import cross_validate\n",
    "\n",
    "model = DummyClassifier(strategy = \"most_frequent\")\n",
    "cv = cross_validate(model, data, target, cv = 10)\n",
    "print(cv[\"test_score\"].mean())"
   ]
  },
  {
   "cell_type": "markdown",
   "metadata": {},
   "source": [
    "Perform a balanced_accuracy scoring :"
   ]
  },
  {
   "cell_type": "code",
   "execution_count": 88,
   "metadata": {},
   "outputs": [
    {
     "name": "stdout",
     "output_type": "stream",
     "text": [
      "0.5\n",
      "0.5\n"
     ]
    }
   ],
   "source": [
    "from sklearn.dummy import DummyClassifier\n",
    "from sklearn.model_selection import cross_validate, cross_val_score\n",
    "\n",
    "model = DummyClassifier(strategy = \"most_frequent\")\n",
    "cv = cross_validate(model, data, target, cv = 10, scoring=\"balanced_accuracy\")\n",
    "print(cv[\"test_score\"].mean())\n",
    "\n",
    "cv_score = cross_val_score(model, data, target, cv = 10, scoring=\"balanced_accuracy\")\n",
    "print(cv_score.mean())"
   ]
  },
  {
   "cell_type": "markdown",
   "metadata": {},
   "source": [
    "K Nearest Neighbors :"
   ]
  },
  {
   "cell_type": "code",
   "execution_count": 12,
   "metadata": {},
   "outputs": [
    {
     "data": {
      "text/plain": [
       "train_score    0.821302\n",
       "test_score     0.652703\n",
       "dtype: float64"
      ]
     },
     "execution_count": 12,
     "metadata": {},
     "output_type": "execute_result"
    }
   ],
   "source": [
    "from sklearn.model_selection import cross_validate\n",
    "from sklearn.neighbors import KNeighborsClassifier \n",
    "from sklearn.pipeline import make_pipeline\n",
    "from sklearn.preprocessing import StandardScaler\n",
    "\n",
    "model = make_pipeline(StandardScaler(), KNeighborsClassifier())\n",
    "\n",
    "cv_results = cross_validate(\n",
    "    model, data, target, cv=10, return_train_score=True\n",
    ")\n",
    "cv_results = pd.DataFrame(cv_results)\n",
    "cv_results[[\"train_score\", \"test_score\"]].mean()"
   ]
  },
  {
   "cell_type": "markdown",
   "metadata": {},
   "source": [
    "Train score > test score : it overfits"
   ]
  },
  {
   "cell_type": "code",
   "execution_count": 13,
   "metadata": {},
   "outputs": [],
   "source": [
    "from sklearn.model_selection import validation_curve\n",
    "\n",
    "param_range = [1, 2, 5, 10, 20, 50, 100, 200, 500]\n",
    "\n",
    "train_scores, test_scores = validation_curve(\n",
    "    model, data, target, param_name=\"kneighborsclassifier__n_neighbors\", param_range=param_range,\n",
    "    cv=10, scoring=\"balanced_accuracy\", n_jobs=-1)\n",
    "train_errors, test_errors = -train_scores, -test_scores"
   ]
  },
  {
   "cell_type": "markdown",
   "metadata": {},
   "source": [
    "Shape (rows = parameters and cols = cross validations)"
   ]
  },
  {
   "cell_type": "code",
   "execution_count": 42,
   "metadata": {},
   "outputs": [
    {
     "name": "stdout",
     "output_type": "stream",
     "text": [
      "(9, 10)\n",
      "[[0.88315058 0.87583455 0.8985441  0.88947978 0.88856603 0.87314206\n",
      "  0.87294103 0.86625853 0.88647948 0.88149117]\n",
      " [0.84032651 0.84221491 0.83679946 0.85213207 0.85256457 0.82874025\n",
      "  0.81804946 0.81583821 0.82714031 0.82598404]\n",
      " [0.7160575  0.70066399 0.68093933 0.70846126 0.70788865 0.71706262\n",
      "  0.70026194 0.67076023 0.69338806 0.69898781]\n",
      " [0.70923489 0.67196637 0.67334308 0.6994883  0.69518762 0.69538865\n",
      "  0.69206262 0.65593933 0.66775029 0.69624544]\n",
      " [0.70708455 0.65241228 0.6418616  0.66608796 0.67818592 0.6807383\n",
      "  0.66978558 0.6387366  0.66117589 0.67919799]\n",
      " [0.63870614 0.58403387 0.57170443 0.61508285 0.63188353 0.65493421\n",
      "  0.65473319 0.58363182 0.62354558 0.6483903 ]\n",
      " [0.57462841 0.52755239 0.51935307 0.52462841 0.53810307 0.56683114\n",
      "  0.59982943 0.52677875 0.51917838 0.56728173]\n",
      " [0.5        0.5        0.5        0.5        0.5        0.5\n",
      "  0.5        0.5        0.5        0.5       ]\n",
      " [0.5        0.5        0.5        0.5        0.5        0.5\n",
      "  0.5        0.5        0.5        0.5       ]]\n"
     ]
    }
   ],
   "source": [
    "print(train_scores.shape)\n",
    "print(train_scores)"
   ]
  },
  {
   "cell_type": "markdown",
   "metadata": {},
   "source": [
    "Axis 0 = vertical direction of rows (calculation by columns)  \n",
    "Axis 1 = horizontal direction (calculation by rows)"
   ]
  },
  {
   "cell_type": "code",
   "execution_count": 72,
   "metadata": {},
   "outputs": [
    {
     "name": "stdout",
     "output_type": "stream",
     "text": [
      "min [0.86625853 0.81583821 0.67076023 0.65593933 0.6387366  0.57170443\n",
      " 0.51917838 0.5        0.5       ]\n",
      "max [0.8985441  0.85256457 0.71706262 0.70923489 0.70708455 0.65493421\n",
      " 0.59982943 0.5        0.5       ]\n",
      "[1, 2, 5, 10, 20, 50, 100, 200, 500]\n",
      "mean training score :  [0.88158873 0.83397898 0.69944714 0.68566066 0.66752667 0.62066459\n",
      " 0.54641648 0.5        0.5       ]\n",
      "mean testing score :  [0.46075851 0.49783282 0.52912797 0.53963708 0.58366013 0.57238562\n",
      " 0.54183007 0.5        0.5       ]\n",
      "True\n"
     ]
    }
   ],
   "source": [
    "train_params = (train_scores.min(axis=1), train_scores.max(axis=1))\n",
    "print(\"min\",  train_params[0])\n",
    "print(\"max\", train_params[1])\n",
    "print(param_range)\n",
    "print(\"mean training score : \", train_scores.mean(axis=1))\n",
    "print(\"mean testing score : \", test_scores.mean(axis=1))\n",
    "print(train_params[1].shape[0] == 9)"
   ]
  },
  {
   "cell_type": "code",
   "execution_count": 60,
   "metadata": {},
   "outputs": [
    {
     "name": "stdout",
     "output_type": "stream",
     "text": [
      "(array([0.5, 0.5, 0.5, 0.5, 0.5, 0.5, 0.5, 0.5, 0.5, 0.5]), array([0.88315058, 0.87583455, 0.8985441 , 0.88947978, 0.88856603,\n",
      "       0.87314206, 0.87294103, 0.86625853, 0.88647948, 0.88149117]))\n",
      "10\n",
      "True\n"
     ]
    }
   ],
   "source": [
    "train_cvs = (train_scores.min(axis=0), train_scores.max(axis=0))\n",
    "print(train_cvs)\n",
    "print(train_cvs[0].shape[0] == 10)"
   ]
  },
  {
   "cell_type": "code",
   "execution_count": 92,
   "metadata": {},
   "outputs": [
    {
     "data": {
      "image/png": "[encoded data removed]",
      "text/plain": [
       "<Figure size 432x288 with 1 Axes>"
      ]
     },
     "metadata": {
      "needs_background": "light"
     },
     "output_type": "display_data"
    }
   ],
   "source": [
    "from matplotlib import pyplot as plt\n",
    "\n",
    "plt.plot(param_range, train_scores.mean(axis=1), label=\"Training score\")\n",
    "plt.plot(param_range, test_scores.mean(axis=1), label=\"Testing score\")\n",
    "plt.legend()\n",
    "\n",
    "plt.xlim(left = 1, right = 300)\n",
    "\n",
    "plt.vlines(10, 0.5, 0.9, color=\"red\", linestyles=\"dashed\")\n",
    "plt.vlines(100, 0.5, 0.9, color=\"red\", linestyles=\"dashed\")\n",
    "\n",
    "plt.xlabel(\"Nb of clusters\")\n",
    "plt.ylabel(\"Score\")\n",
    "_ = plt.title(\"Validation curve for decision tree\")"
   ]
  },
  {
   "cell_type": "code",
   "execution_count": 81,
   "metadata": {},
   "outputs": [
    {
     "name": "stdout",
     "output_type": "stream",
     "text": [
      "[0.42083022 0.33614616 0.17031917 0.14602358 0.08386654 0.04827897\n",
      " 0.00458641 0.         0.        ]\n"
     ]
    },
    {
     "data": {
      "text/plain": [
       "<matplotlib.collections.LineCollection at 0x7f8ec6ebc550>"
      ]
     },
     "execution_count": 81,
     "metadata": {},
     "output_type": "execute_result"
    },
    {
     "data": {
      "image/png": "[encoded data removed]",
      "text/plain": [
       "<Figure size 432x288 with 1 Axes>"
      ]
     },
     "metadata": {
      "needs_background": "light"
     },
     "output_type": "display_data"
    }
   ],
   "source": [
    "diff_test_train = abs(test_scores.mean(axis=1) - train_scores.mean(axis=1))\n",
    "print(diff_test_train)\n",
    "\n",
    "plt.plot(param_range, diff_test_train, label = \"diff_test_train\")\n",
    "plt.vlines(10, 0, 1, color=\"red\", linestyles=\"dashed\")"
   ]
  },
  {
   "cell_type": "markdown",
   "metadata": {},
   "source": [
    "Nb of params"
   ]
  },
  {
   "cell_type": "code",
   "execution_count": 44,
   "metadata": {},
   "outputs": [
    {
     "name": "stdout",
     "output_type": "stream",
     "text": [
      "{'memory': None, 'steps': [('standardscaler', StandardScaler()), ('kneighborsclassifier', KNeighborsClassifier())], 'verbose': False, 'standardscaler': StandardScaler(), 'kneighborsclassifier': KNeighborsClassifier(), 'standardscaler__copy': True, 'standardscaler__with_mean': True, 'standardscaler__with_std': True, 'kneighborsclassifier__algorithm': 'auto', 'kneighborsclassifier__leaf_size': 30, 'kneighborsclassifier__metric': 'minkowski', 'kneighborsclassifier__metric_params': None, 'kneighborsclassifier__n_jobs': None, 'kneighborsclassifier__n_neighbors': 5, 'kneighborsclassifier__p': 2, 'kneighborsclassifier__weights': 'uniform'}\n",
      "5\n"
     ]
    }
   ],
   "source": [
    "print(model.get_params())\n",
    "print(model.get_params()['kneighborsclassifier__n_neighbors'])"
   ]
  }
 ],
 "metadata": {
  "kernelspec": {
   "display_name": "Python 3",
   "language": "python",
   "name": "python3"
  },
  "language_info": {
   "codemirror_mode": {
    "name": "ipython",
    "version": 3
   },
   "file_extension": ".py",
   "mimetype": "text/x-python",
   "name": "python",
   "nbconvert_exporter": "python",
   "pygments_lexer": "ipython3",
   "version": "3.9.4"
  }
 },
 "nbformat": 4,
 "nbformat_minor": 4
}
