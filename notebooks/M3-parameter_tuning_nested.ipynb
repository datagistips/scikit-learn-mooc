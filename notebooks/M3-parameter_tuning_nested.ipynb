{
 "cells": [
  {
   "cell_type": "markdown",
   "id": "db26b306",
   "metadata": {},
   "source": [
    "# Cross-validation and hyperparameter tuning\n",
    "\n",
    "In the previous notebooks, we saw two approaches to tune hyperparameters:\n",
    "via grid-search and randomized-search.\n",
    "\n",
    "In this notebook, we will show how to combine such hyperparameters search\n",
    "with a cross-validation."
   ]
  },
  {
   "cell_type": "markdown",
   "id": "184d77c8",
   "metadata": {},
   "source": [
    "## Our predictive model\n",
    "\n",
    "Let us reload the dataset as we did previously:"
   ]
  },
  {
   "cell_type": "code",
   "execution_count": 2,
   "id": "db03fbe9",
   "metadata": {},
   "outputs": [],
   "source": [
    "from sklearn import set_config\n",
    "\n",
    "set_config(display=\"diagram\")"
   ]
  },
  {
   "cell_type": "code",
   "execution_count": 4,
   "id": "f18aa32a",
   "metadata": {},
   "outputs": [],
   "source": [
    "import pandas as pd\n",
    "\n",
    "adult_census = pd.read_csv(\"../datasets/adult-census.csv\")"
   ]
  },
  {
   "cell_type": "markdown",
   "id": "3482d194",
   "metadata": {},
   "source": [
    "We extract the column containing the target."
   ]
  },
  {
   "cell_type": "code",
   "execution_count": 5,
   "id": "432b7e50",
   "metadata": {},
   "outputs": [
    {
     "data": {
      "text/plain": [
       "0         <=50K\n",
       "1         <=50K\n",
       "2          >50K\n",
       "3          >50K\n",
       "4         <=50K\n",
       "          ...  \n",
       "48837     <=50K\n",
       "48838      >50K\n",
       "48839     <=50K\n",
       "48840     <=50K\n",
       "48841      >50K\n",
       "Name: class, Length: 48842, dtype: object"
      ]
     },
     "execution_count": 5,
     "metadata": {},
     "output_type": "execute_result"
    }
   ],
   "source": [
    "target_name = \"class\"\n",
    "target = adult_census[target_name]\n",
    "target"
   ]
  },
  {
   "cell_type": "markdown",
   "id": "576973a5",
   "metadata": {},
   "source": [
    "We drop from our data the target and the `\"education-num\"` column which\n",
    "duplicates the information from the `\"education\"` column."
   ]
  },
  {
   "cell_type": "code",
   "execution_count": 6,
   "id": "f1b35814",
   "metadata": {},
   "outputs": [
    {
     "data": {
      "text/html": [
       "<div>\n",
       "<style scoped>\n",
       "    .dataframe tbody tr th:only-of-type {\n",
       "        vertical-align: middle;\n",
       "    }\n",
       "\n",
       "    .dataframe tbody tr th {\n",
       "        vertical-align: top;\n",
       "    }\n",
       "\n",
       "    .dataframe thead th {\n",
       "        text-align: right;\n",
       "    }\n",
       "</style>\n",
       "<table border=\"1\" class=\"dataframe\">\n",
       "  <thead>\n",
       "    <tr style=\"text-align: right;\">\n",
       "      <th></th>\n",
       "      <th>age</th>\n",
       "      <th>workclass</th>\n",
       "      <th>education</th>\n",
       "      <th>marital-status</th>\n",
       "      <th>occupation</th>\n",
       "      <th>relationship</th>\n",
       "      <th>race</th>\n",
       "      <th>sex</th>\n",
       "      <th>capital-gain</th>\n",
       "      <th>capital-loss</th>\n",
       "      <th>hours-per-week</th>\n",
       "      <th>native-country</th>\n",
       "    </tr>\n",
       "  </thead>\n",
       "  <tbody>\n",
       "    <tr>\n",
       "      <th>0</th>\n",
       "      <td>25</td>\n",
       "      <td>Private</td>\n",
       "      <td>11th</td>\n",
       "      <td>Never-married</td>\n",
       "      <td>Machine-op-inspct</td>\n",
       "      <td>Own-child</td>\n",
       "      <td>Black</td>\n",
       "      <td>Male</td>\n",
       "      <td>0</td>\n",
       "      <td>0</td>\n",
       "      <td>40</td>\n",
       "      <td>United-States</td>\n",
       "    </tr>\n",
       "    <tr>\n",
       "      <th>1</th>\n",
       "      <td>38</td>\n",
       "      <td>Private</td>\n",
       "      <td>HS-grad</td>\n",
       "      <td>Married-civ-spouse</td>\n",
       "      <td>Farming-fishing</td>\n",
       "      <td>Husband</td>\n",
       "      <td>White</td>\n",
       "      <td>Male</td>\n",
       "      <td>0</td>\n",
       "      <td>0</td>\n",
       "      <td>50</td>\n",
       "      <td>United-States</td>\n",
       "    </tr>\n",
       "    <tr>\n",
       "      <th>2</th>\n",
       "      <td>28</td>\n",
       "      <td>Local-gov</td>\n",
       "      <td>Assoc-acdm</td>\n",
       "      <td>Married-civ-spouse</td>\n",
       "      <td>Protective-serv</td>\n",
       "      <td>Husband</td>\n",
       "      <td>White</td>\n",
       "      <td>Male</td>\n",
       "      <td>0</td>\n",
       "      <td>0</td>\n",
       "      <td>40</td>\n",
       "      <td>United-States</td>\n",
       "    </tr>\n",
       "    <tr>\n",
       "      <th>3</th>\n",
       "      <td>44</td>\n",
       "      <td>Private</td>\n",
       "      <td>Some-college</td>\n",
       "      <td>Married-civ-spouse</td>\n",
       "      <td>Machine-op-inspct</td>\n",
       "      <td>Husband</td>\n",
       "      <td>Black</td>\n",
       "      <td>Male</td>\n",
       "      <td>7688</td>\n",
       "      <td>0</td>\n",
       "      <td>40</td>\n",
       "      <td>United-States</td>\n",
       "    </tr>\n",
       "    <tr>\n",
       "      <th>4</th>\n",
       "      <td>18</td>\n",
       "      <td>?</td>\n",
       "      <td>Some-college</td>\n",
       "      <td>Never-married</td>\n",
       "      <td>?</td>\n",
       "      <td>Own-child</td>\n",
       "      <td>White</td>\n",
       "      <td>Female</td>\n",
       "      <td>0</td>\n",
       "      <td>0</td>\n",
       "      <td>30</td>\n",
       "      <td>United-States</td>\n",
       "    </tr>\n",
       "  </tbody>\n",
       "</table>\n",
       "</div>"
      ],
      "text/plain": [
       "   age   workclass      education       marital-status          occupation  \\\n",
       "0   25     Private           11th        Never-married   Machine-op-inspct   \n",
       "1   38     Private        HS-grad   Married-civ-spouse     Farming-fishing   \n",
       "2   28   Local-gov     Assoc-acdm   Married-civ-spouse     Protective-serv   \n",
       "3   44     Private   Some-college   Married-civ-spouse   Machine-op-inspct   \n",
       "4   18           ?   Some-college        Never-married                   ?   \n",
       "\n",
       "  relationship    race      sex  capital-gain  capital-loss  hours-per-week  \\\n",
       "0    Own-child   Black     Male             0             0              40   \n",
       "1      Husband   White     Male             0             0              50   \n",
       "2      Husband   White     Male             0             0              40   \n",
       "3      Husband   Black     Male          7688             0              40   \n",
       "4    Own-child   White   Female             0             0              30   \n",
       "\n",
       "   native-country  \n",
       "0   United-States  \n",
       "1   United-States  \n",
       "2   United-States  \n",
       "3   United-States  \n",
       "4   United-States  "
      ]
     },
     "execution_count": 6,
     "metadata": {},
     "output_type": "execute_result"
    }
   ],
   "source": [
    "data = adult_census.drop(columns=[target_name, \"education-num\"])\n",
    "data.head()"
   ]
  },
  {
   "cell_type": "markdown",
   "id": "73e900f2",
   "metadata": {},
   "source": [
    "Once the dataset is loaded, we split it into a training and testing sets."
   ]
  },
  {
   "cell_type": "code",
   "execution_count": 7,
   "id": "a3829daf",
   "metadata": {},
   "outputs": [],
   "source": [
    "from sklearn.model_selection import train_test_split\n",
    "\n",
    "data_train, data_test, target_train, target_test = train_test_split(\n",
    "    data, target, random_state=42)"
   ]
  },
  {
   "cell_type": "markdown",
   "id": "38d2f815",
   "metadata": {},
   "source": [
    "We will create the same predictive pipeline as seen in the grid-search\n",
    "section."
   ]
  },
  {
   "cell_type": "code",
   "execution_count": 8,
   "id": "5f9ec440",
   "metadata": {},
   "outputs": [],
   "source": [
    "from sklearn.compose import ColumnTransformer\n",
    "from sklearn.preprocessing import OrdinalEncoder\n",
    "from sklearn.compose import make_column_selector as selector\n",
    "\n",
    "categorical_columns_selector = selector(dtype_include=object)\n",
    "categorical_columns = categorical_columns_selector(data)\n",
    "\n",
    "categorical_preprocessor = OrdinalEncoder(handle_unknown=\"use_encoded_value\",\n",
    "                                          unknown_value=-1)\n",
    "preprocessor = ColumnTransformer([\n",
    "    ('cat-preprocessor', categorical_preprocessor, categorical_columns)],\n",
    "    remainder='passthrough', sparse_threshold=0)"
   ]
  },
  {
   "cell_type": "code",
   "execution_count": 9,
   "id": "13ba378f",
   "metadata": {},
   "outputs": [
    {
     "data": {
      "text/html": [
       "<style>#sk-1f91599f-2944-443d-9b76-57ec72e77132 {color: black;background-color: white;}#sk-1f91599f-2944-443d-9b76-57ec72e77132 pre{padding: 0;}#sk-1f91599f-2944-443d-9b76-57ec72e77132 div.sk-toggleable {background-color: white;}#sk-1f91599f-2944-443d-9b76-57ec72e77132 label.sk-toggleable__label {cursor: pointer;display: block;width: 100%;margin-bottom: 0;padding: 0.2em 0.3em;box-sizing: border-box;text-align: center;}#sk-1f91599f-2944-443d-9b76-57ec72e77132 div.sk-toggleable__content {max-height: 0;max-width: 0;overflow: hidden;text-align: left;background-color: #f0f8ff;}#sk-1f91599f-2944-443d-9b76-57ec72e77132 div.sk-toggleable__content pre {margin: 0.2em;color: black;border-radius: 0.25em;background-color: #f0f8ff;}#sk-1f91599f-2944-443d-9b76-57ec72e77132 input.sk-toggleable__control:checked~div.sk-toggleable__content {max-height: 200px;max-width: 100%;overflow: auto;}#sk-1f91599f-2944-443d-9b76-57ec72e77132 div.sk-estimator input.sk-toggleable__control:checked~label.sk-toggleable__label {background-color: #d4ebff;}#sk-1f91599f-2944-443d-9b76-57ec72e77132 div.sk-label input.sk-toggleable__control:checked~label.sk-toggleable__label {background-color: #d4ebff;}#sk-1f91599f-2944-443d-9b76-57ec72e77132 input.sk-hidden--visually {border: 0;clip: rect(1px 1px 1px 1px);clip: rect(1px, 1px, 1px, 1px);height: 1px;margin: -1px;overflow: hidden;padding: 0;position: absolute;width: 1px;}#sk-1f91599f-2944-443d-9b76-57ec72e77132 div.sk-estimator {font-family: monospace;background-color: #f0f8ff;margin: 0.25em 0.25em;border: 1px dotted black;border-radius: 0.25em;box-sizing: border-box;}#sk-1f91599f-2944-443d-9b76-57ec72e77132 div.sk-estimator:hover {background-color: #d4ebff;}#sk-1f91599f-2944-443d-9b76-57ec72e77132 div.sk-parallel-item::after {content: \"\";width: 100%;border-bottom: 1px solid gray;flex-grow: 1;}#sk-1f91599f-2944-443d-9b76-57ec72e77132 div.sk-label:hover label.sk-toggleable__label {background-color: #d4ebff;}#sk-1f91599f-2944-443d-9b76-57ec72e77132 div.sk-serial::before {content: \"\";position: absolute;border-left: 1px solid gray;box-sizing: border-box;top: 2em;bottom: 0;left: 50%;}#sk-1f91599f-2944-443d-9b76-57ec72e77132 div.sk-serial {display: flex;flex-direction: column;align-items: center;background-color: white;}#sk-1f91599f-2944-443d-9b76-57ec72e77132 div.sk-item {z-index: 1;}#sk-1f91599f-2944-443d-9b76-57ec72e77132 div.sk-parallel {display: flex;align-items: stretch;justify-content: center;background-color: white;}#sk-1f91599f-2944-443d-9b76-57ec72e77132 div.sk-parallel-item {display: flex;flex-direction: column;position: relative;background-color: white;}#sk-1f91599f-2944-443d-9b76-57ec72e77132 div.sk-parallel-item:first-child::after {align-self: flex-end;width: 50%;}#sk-1f91599f-2944-443d-9b76-57ec72e77132 div.sk-parallel-item:last-child::after {align-self: flex-start;width: 50%;}#sk-1f91599f-2944-443d-9b76-57ec72e77132 div.sk-parallel-item:only-child::after {width: 0;}#sk-1f91599f-2944-443d-9b76-57ec72e77132 div.sk-dashed-wrapped {border: 1px dashed gray;margin: 0.2em;box-sizing: border-box;padding-bottom: 0.1em;background-color: white;position: relative;}#sk-1f91599f-2944-443d-9b76-57ec72e77132 div.sk-label label {font-family: monospace;font-weight: bold;background-color: white;display: inline-block;line-height: 1.2em;}#sk-1f91599f-2944-443d-9b76-57ec72e77132 div.sk-label-container {position: relative;z-index: 2;text-align: center;}#sk-1f91599f-2944-443d-9b76-57ec72e77132 div.sk-container {display: inline-block;position: relative;}</style><div id=\"sk-1f91599f-2944-443d-9b76-57ec72e77132\" class\"sk-top-container\"><div class=\"sk-container\"><div class=\"sk-item sk-dashed-wrapped\"><div class=\"sk-label-container\"><div class=\"sk-label sk-toggleable\"><input class=\"sk-toggleable__control sk-hidden--visually\" id=\"6c5ac275-2b93-4c29-a420-1b10e61c3d80\" type=\"checkbox\" ><label class=\"sk-toggleable__label\" for=\"6c5ac275-2b93-4c29-a420-1b10e61c3d80\">Pipeline</label><div class=\"sk-toggleable__content\"><pre>Pipeline(steps=[('preprocessor',\n",
       "                 ColumnTransformer(remainder='passthrough', sparse_threshold=0,\n",
       "                                   transformers=[('cat-preprocessor',\n",
       "                                                  OrdinalEncoder(handle_unknown='use_encoded_value',\n",
       "                                                                 unknown_value=-1),\n",
       "                                                  ['workclass', 'education',\n",
       "                                                   'marital-status',\n",
       "                                                   'occupation', 'relationship',\n",
       "                                                   'race', 'sex',\n",
       "                                                   'native-country'])])),\n",
       "                ('classifier',\n",
       "                 HistGradientBoostingClassifier(max_leaf_nodes=4,\n",
       "                                                random_state=42))])</pre></div></div></div><div class=\"sk-serial\"><div class=\"sk-item sk-dashed-wrapped\"><div class=\"sk-label-container\"><div class=\"sk-label sk-toggleable\"><input class=\"sk-toggleable__control sk-hidden--visually\" id=\"f2ab70c0-53c2-43f2-87bf-a006640b4c82\" type=\"checkbox\" ><label class=\"sk-toggleable__label\" for=\"f2ab70c0-53c2-43f2-87bf-a006640b4c82\">preprocessor: ColumnTransformer</label><div class=\"sk-toggleable__content\"><pre>ColumnTransformer(remainder='passthrough', sparse_threshold=0,\n",
       "                  transformers=[('cat-preprocessor',\n",
       "                                 OrdinalEncoder(handle_unknown='use_encoded_value',\n",
       "                                                unknown_value=-1),\n",
       "                                 ['workclass', 'education', 'marital-status',\n",
       "                                  'occupation', 'relationship', 'race', 'sex',\n",
       "                                  'native-country'])])</pre></div></div></div><div class=\"sk-parallel\"><div class=\"sk-parallel-item\"><div class=\"sk-item\"><div class=\"sk-label-container\"><div class=\"sk-label sk-toggleable\"><input class=\"sk-toggleable__control sk-hidden--visually\" id=\"638e9cf2-5081-45c8-a6b8-1dcd80e49c38\" type=\"checkbox\" ><label class=\"sk-toggleable__label\" for=\"638e9cf2-5081-45c8-a6b8-1dcd80e49c38\">cat-preprocessor</label><div class=\"sk-toggleable__content\"><pre>['workclass', 'education', 'marital-status', 'occupation', 'relationship', 'race', 'sex', 'native-country']</pre></div></div></div><div class=\"sk-serial\"><div class=\"sk-item\"><div class=\"sk-estimator sk-toggleable\"><input class=\"sk-toggleable__control sk-hidden--visually\" id=\"c52477c8-7d10-4549-ac69-988484cb45c7\" type=\"checkbox\" ><label class=\"sk-toggleable__label\" for=\"c52477c8-7d10-4549-ac69-988484cb45c7\">OrdinalEncoder</label><div class=\"sk-toggleable__content\"><pre>OrdinalEncoder(handle_unknown='use_encoded_value', unknown_value=-1)</pre></div></div></div></div></div></div><div class=\"sk-parallel-item\"><div class=\"sk-item\"><div class=\"sk-label-container\"><div class=\"sk-label sk-toggleable\"><input class=\"sk-toggleable__control sk-hidden--visually\" id=\"c721cb74-8976-418d-94f1-ed99c78d889c\" type=\"checkbox\" ><label class=\"sk-toggleable__label\" for=\"c721cb74-8976-418d-94f1-ed99c78d889c\">remainder</label><div class=\"sk-toggleable__content\"><pre></pre></div></div></div><div class=\"sk-serial\"><div class=\"sk-item\"><div class=\"sk-estimator sk-toggleable\"><input class=\"sk-toggleable__control sk-hidden--visually\" id=\"0a10d40a-ce21-40d6-a8e7-d15279956dd2\" type=\"checkbox\" ><label class=\"sk-toggleable__label\" for=\"0a10d40a-ce21-40d6-a8e7-d15279956dd2\">passthrough</label><div class=\"sk-toggleable__content\"><pre>passthrough</pre></div></div></div></div></div></div></div></div><div class=\"sk-item\"><div class=\"sk-estimator sk-toggleable\"><input class=\"sk-toggleable__control sk-hidden--visually\" id=\"4e04104b-c418-4f98-8291-89eebf6b1b2b\" type=\"checkbox\" ><label class=\"sk-toggleable__label\" for=\"4e04104b-c418-4f98-8291-89eebf6b1b2b\">HistGradientBoostingClassifier</label><div class=\"sk-toggleable__content\"><pre>HistGradientBoostingClassifier(max_leaf_nodes=4, random_state=42)</pre></div></div></div></div></div></div></div>"
      ],
      "text/plain": [
       "Pipeline(steps=[('preprocessor',\n",
       "                 ColumnTransformer(remainder='passthrough', sparse_threshold=0,\n",
       "                                   transformers=[('cat-preprocessor',\n",
       "                                                  OrdinalEncoder(handle_unknown='use_encoded_value',\n",
       "                                                                 unknown_value=-1),\n",
       "                                                  ['workclass', 'education',\n",
       "                                                   'marital-status',\n",
       "                                                   'occupation', 'relationship',\n",
       "                                                   'race', 'sex',\n",
       "                                                   'native-country'])])),\n",
       "                ('classifier',\n",
       "                 HistGradientBoostingClassifier(max_leaf_nodes=4,\n",
       "                                                random_state=42))])"
      ]
     },
     "execution_count": 9,
     "metadata": {},
     "output_type": "execute_result"
    }
   ],
   "source": [
    "# for the moment this line is required to import HistGradientBoostingClassifier\n",
    "from sklearn.experimental import enable_hist_gradient_boosting\n",
    "from sklearn.ensemble import HistGradientBoostingClassifier\n",
    "from sklearn.pipeline import Pipeline\n",
    "\n",
    "model = Pipeline([\n",
    "    (\"preprocessor\", preprocessor),\n",
    "    (\"classifier\",\n",
    "     HistGradientBoostingClassifier(random_state=42, max_leaf_nodes=4))])\n",
    "model"
   ]
  },
  {
   "cell_type": "markdown",
   "id": "7ee16fbe",
   "metadata": {},
   "source": [
    "## Include a hyperparameter search within a cross-validation\n",
    "\n",
    "As mentioned earlier, using a single train-test split during the grid-search\n",
    "does not give any information regarding the different sources of variations:\n",
    "variations in terms of test score or hyperparameters values.\n",
    "\n",
    "To get reliable information, the hyperparameters search need to be nested\n",
    "within a cross-validation.\n",
    "\n",
    "<div class=\"admonition note alert alert-info\">\n",
    "<p class=\"first admonition-title\" style=\"font-weight: bold;\">Note</p>\n",
    "<p class=\"last\">To limit the computational cost, we affect <tt class=\"docutils literal\">cv</tt> to a low integer. In\n",
    "practice, the number of fold should be much higher.</p>\n",
    "</div>"
   ]
  },
  {
   "cell_type": "code",
   "execution_count": 10,
   "id": "2d0b3deb",
   "metadata": {},
   "outputs": [],
   "source": [
    "from sklearn.model_selection import cross_validate\n",
    "from sklearn.model_selection import GridSearchCV\n",
    "\n",
    "param_grid = {\n",
    "    'classifier__learning_rate': (0.05, 0.1),\n",
    "    'classifier__max_leaf_nodes': (30, 40)}\n",
    "model_grid_search = GridSearchCV(model, param_grid=param_grid,\n",
    "                                 n_jobs=4, cv=2)\n",
    "\n",
    "cv_results = cross_validate(\n",
    "    model_grid_search, data, target, cv=3, return_estimator=True)"
   ]
  },
  {
   "cell_type": "code",
   "execution_count": 11,
   "id": "72412b64",
   "metadata": {},
   "outputs": [
    {
     "data": {
      "text/plain": [
       "{'fit_time': array([5.27086425, 3.08800101, 3.20787692]),\n",
       " 'score_time': array([0.12018442, 0.11269855, 0.12517023]),\n",
       " 'estimator': [GridSearchCV(cv=2,\n",
       "               estimator=Pipeline(steps=[('preprocessor',\n",
       "                                          ColumnTransformer(remainder='passthrough',\n",
       "                                                            sparse_threshold=0,\n",
       "                                                            transformers=[('cat-preprocessor',\n",
       "                                                                           OrdinalEncoder(handle_unknown='use_encoded_value',\n",
       "                                                                                          unknown_value=-1),\n",
       "                                                                           ['workclass',\n",
       "                                                                            'education',\n",
       "                                                                            'marital-status',\n",
       "                                                                            'occupation',\n",
       "                                                                            'relationship',\n",
       "                                                                            'race',\n",
       "                                                                            'sex',\n",
       "                                                                            'native-country'])])),\n",
       "                                         ('classifier',\n",
       "                                          HistGradientBoostingClassifier(max_leaf_nodes=4,\n",
       "                                                                         random_state=42))]),\n",
       "               n_jobs=4,\n",
       "               param_grid={'classifier__learning_rate': (0.05, 0.1),\n",
       "                           'classifier__max_leaf_nodes': (30, 40)}),\n",
       "  GridSearchCV(cv=2,\n",
       "               estimator=Pipeline(steps=[('preprocessor',\n",
       "                                          ColumnTransformer(remainder='passthrough',\n",
       "                                                            sparse_threshold=0,\n",
       "                                                            transformers=[('cat-preprocessor',\n",
       "                                                                           OrdinalEncoder(handle_unknown='use_encoded_value',\n",
       "                                                                                          unknown_value=-1),\n",
       "                                                                           ['workclass',\n",
       "                                                                            'education',\n",
       "                                                                            'marital-status',\n",
       "                                                                            'occupation',\n",
       "                                                                            'relationship',\n",
       "                                                                            'race',\n",
       "                                                                            'sex',\n",
       "                                                                            'native-country'])])),\n",
       "                                         ('classifier',\n",
       "                                          HistGradientBoostingClassifier(max_leaf_nodes=4,\n",
       "                                                                         random_state=42))]),\n",
       "               n_jobs=4,\n",
       "               param_grid={'classifier__learning_rate': (0.05, 0.1),\n",
       "                           'classifier__max_leaf_nodes': (30, 40)}),\n",
       "  GridSearchCV(cv=2,\n",
       "               estimator=Pipeline(steps=[('preprocessor',\n",
       "                                          ColumnTransformer(remainder='passthrough',\n",
       "                                                            sparse_threshold=0,\n",
       "                                                            transformers=[('cat-preprocessor',\n",
       "                                                                           OrdinalEncoder(handle_unknown='use_encoded_value',\n",
       "                                                                                          unknown_value=-1),\n",
       "                                                                           ['workclass',\n",
       "                                                                            'education',\n",
       "                                                                            'marital-status',\n",
       "                                                                            'occupation',\n",
       "                                                                            'relationship',\n",
       "                                                                            'race',\n",
       "                                                                            'sex',\n",
       "                                                                            'native-country'])])),\n",
       "                                         ('classifier',\n",
       "                                          HistGradientBoostingClassifier(max_leaf_nodes=4,\n",
       "                                                                         random_state=42))]),\n",
       "               n_jobs=4,\n",
       "               param_grid={'classifier__learning_rate': (0.05, 0.1),\n",
       "                           'classifier__max_leaf_nodes': (30, 40)})],\n",
       " 'test_score': array([0.8730422 , 0.86978687, 0.87346437])}"
      ]
     },
     "execution_count": 11,
     "metadata": {},
     "output_type": "execute_result"
    }
   ],
   "source": [
    "len(cv_results['estimator']) == 3\n",
    "cv_results\n",
    "#cv_results['estimator']"
   ]
  },
  {
   "cell_type": "markdown",
   "id": "80ec40ca",
   "metadata": {},
   "source": [
    "Running the above cross-validation will give us an estimate of the\n",
    "testing score."
   ]
  },
  {
   "cell_type": "code",
   "execution_count": 12,
   "id": "e4dbdd49",
   "metadata": {},
   "outputs": [
    {
     "name": "stdout",
     "output_type": "stream",
     "text": [
      "Accuracy score by cross-validation combined with hyperparameters search:\n",
      "0.872 +/- 0.002\n"
     ]
    }
   ],
   "source": [
    "scores = cv_results[\"test_score\"]\n",
    "print(f\"Accuracy score by cross-validation combined with hyperparameters \"\n",
    "      f\"search:\\n{scores.mean():.3f} +/- {scores.std():.3f}\")"
   ]
  },
  {
   "cell_type": "markdown",
   "id": "3181148d",
   "metadata": {},
   "source": [
    "The hyperparameters on each fold are potentially different since we nested\n",
    "the grid-search in the cross-validation. Thus, checking the variation of the\n",
    "hyperparameters across folds should also be analyzed."
   ]
  },
  {
   "cell_type": "code",
   "execution_count": 13,
   "id": "834d9b93",
   "metadata": {},
   "outputs": [
    {
     "name": "stdout",
     "output_type": "stream",
     "text": [
      "Best parameter found on fold #1\n",
      "GridSearchCV(cv=2,\n",
      "             estimator=Pipeline(steps=[('preprocessor',\n",
      "                                        ColumnTransformer(remainder='passthrough',\n",
      "                                                          sparse_threshold=0,\n",
      "                                                          transformers=[('cat-preprocessor',\n",
      "                                                                         OrdinalEncoder(handle_unknown='use_encoded_value',\n",
      "                                                                                        unknown_value=-1),\n",
      "                                                                         ['workclass',\n",
      "                                                                          'education',\n",
      "                                                                          'marital-status',\n",
      "                                                                          'occupation',\n",
      "                                                                          'relationship',\n",
      "                                                                          'race',\n",
      "                                                                          'sex',\n",
      "                                                                          'native-country'])])),\n",
      "                                       ('classifier',\n",
      "                                        HistGradientBoostingClassifier(max_leaf_nodes=4,\n",
      "                                                                       random_state=42))]),\n",
      "             n_jobs=4,\n",
      "             param_grid={'classifier__learning_rate': (0.05, 0.1),\n",
      "                         'classifier__max_leaf_nodes': (30, 40)})\n",
      "{'classifier__learning_rate': 0.1, 'classifier__max_leaf_nodes': 40}\n",
      "Best parameter found on fold #2\n",
      "GridSearchCV(cv=2,\n",
      "             estimator=Pipeline(steps=[('preprocessor',\n",
      "                                        ColumnTransformer(remainder='passthrough',\n",
      "                                                          sparse_threshold=0,\n",
      "                                                          transformers=[('cat-preprocessor',\n",
      "                                                                         OrdinalEncoder(handle_unknown='use_encoded_value',\n",
      "                                                                                        unknown_value=-1),\n",
      "                                                                         ['workclass',\n",
      "                                                                          'education',\n",
      "                                                                          'marital-status',\n",
      "                                                                          'occupation',\n",
      "                                                                          'relationship',\n",
      "                                                                          'race',\n",
      "                                                                          'sex',\n",
      "                                                                          'native-country'])])),\n",
      "                                       ('classifier',\n",
      "                                        HistGradientBoostingClassifier(max_leaf_nodes=4,\n",
      "                                                                       random_state=42))]),\n",
      "             n_jobs=4,\n",
      "             param_grid={'classifier__learning_rate': (0.05, 0.1),\n",
      "                         'classifier__max_leaf_nodes': (30, 40)})\n",
      "{'classifier__learning_rate': 0.1, 'classifier__max_leaf_nodes': 30}\n",
      "Best parameter found on fold #3\n",
      "GridSearchCV(cv=2,\n",
      "             estimator=Pipeline(steps=[('preprocessor',\n",
      "                                        ColumnTransformer(remainder='passthrough',\n",
      "                                                          sparse_threshold=0,\n",
      "                                                          transformers=[('cat-preprocessor',\n",
      "                                                                         OrdinalEncoder(handle_unknown='use_encoded_value',\n",
      "                                                                                        unknown_value=-1),\n",
      "                                                                         ['workclass',\n",
      "                                                                          'education',\n",
      "                                                                          'marital-status',\n",
      "                                                                          'occupation',\n",
      "                                                                          'relationship',\n",
      "                                                                          'race',\n",
      "                                                                          'sex',\n",
      "                                                                          'native-country'])])),\n",
      "                                       ('classifier',\n",
      "                                        HistGradientBoostingClassifier(max_leaf_nodes=4,\n",
      "                                                                       random_state=42))]),\n",
      "             n_jobs=4,\n",
      "             param_grid={'classifier__learning_rate': (0.05, 0.1),\n",
      "                         'classifier__max_leaf_nodes': (30, 40)})\n",
      "{'classifier__learning_rate': 0.05, 'classifier__max_leaf_nodes': 30}\n"
     ]
    }
   ],
   "source": [
    "for fold_idx, estimator in enumerate(cv_results[\"estimator\"]):\n",
    "    print(f\"Best parameter found on fold #{fold_idx + 1}\")\n",
    "    print(f\"{estimator.best_params_}\")"
   ]
  },
  {
   "cell_type": "markdown",
   "id": "1d7f3f7a",
   "metadata": {},
   "source": [
    "Obtaining models with unstable hyperparameters would be an issue in practice.\n",
    "Indeed, it would become difficult to set them."
   ]
  },
  {
   "cell_type": "markdown",
   "id": "e800b184",
   "metadata": {},
   "source": [
    "In this notebook, we have seen how to combine hyperparameters search with\n",
    "cross-validation."
   ]
  }
 ],
 "metadata": {
  "jupytext": {
   "cell_metadata_filter": "-all",
   "main_language": "python",
   "notebook_metadata_filter": "-all"
  },
  "kernelspec": {
   "display_name": "Python 3",
   "language": "python",
   "name": "python3"
  },
  "language_info": {
   "codemirror_mode": {
    "name": "ipython",
    "version": 3
   },
   "file_extension": ".py",
   "mimetype": "text/x-python",
   "name": "python",
   "nbconvert_exporter": "python",
   "pygments_lexer": "ipython3",
   "version": "3.9.4"
  }
 },
 "nbformat": 4,
 "nbformat_minor": 5
}
